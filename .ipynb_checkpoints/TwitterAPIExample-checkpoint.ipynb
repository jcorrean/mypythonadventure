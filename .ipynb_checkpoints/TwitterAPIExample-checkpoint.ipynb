{
 "cells": [
  {
   "cell_type": "code",
   "execution_count": null,
   "id": "67c4edf9",
   "metadata": {},
   "outputs": [],
   "source": [
    " pip install python-twitter"
   ]
  },
  {
   "cell_type": "code",
   "execution_count": null,
   "id": "2b978bd3",
   "metadata": {},
   "outputs": [],
   "source": [
    "pip install pytest"
   ]
  },
  {
   "cell_type": "code",
   "execution_count": null,
   "id": "d21c38ad",
   "metadata": {},
   "outputs": [],
   "source": [
    "pip install pytest-cov"
   ]
  },
  {
   "cell_type": "code",
   "execution_count": null,
   "id": "01da5260",
   "metadata": {},
   "outputs": [],
   "source": [
    "import twitter\n",
    "api = twitter.Api(consumer_key='GynEQAYQt2emaQyDsj8pshHda',\n",
    "                  consumer_secret='QDn2cgB4E4n3emVdcchqrBZXCTIVWi9ogCYuTQQhileGCysULM',\n",
    "                  access_token_key='106483037-iQYvMCARq2a4swVQGhsXiJ0k6yfhoTHdKOZMz6sR',\n",
    "                  access_token_secret='OuWFUzKSCKyqQMb3YlomE66abLgkYzQ4XJYe17I6DIlse')"
   ]
  },
  {
   "cell_type": "code",
   "execution_count": null,
   "id": "de727bd9",
   "metadata": {},
   "outputs": [],
   "source": [
    "statuses = api.GetUserTimeline(106483037)\n",
    "print([s.text for s in statuses])"
   ]
  },
  {
   "cell_type": "markdown",
   "id": "896e83e4",
   "metadata": {},
   "source": [
    "# Exportar tweets\n",
    "\n",
    "## Veamos ahora cómo exportar estos tweets a una base de datos que luego pueda ser usada no solo desde este jupyter notebook, sino desde cualquier otro software"
   ]
  },
  {
   "cell_type": "code",
   "execution_count": null,
   "id": "fb767065",
   "metadata": {},
   "outputs": [],
   "source": [
    "type(statuses[0])"
   ]
  },
  {
   "cell_type": "code",
   "execution_count": null,
   "id": "dd786ed9",
   "metadata": {
    "scrolled": true
   },
   "outputs": [],
   "source": [
    "import pandas as pd\n",
    "import json\n",
    "type(statuses[0]._json)\n",
    "\n",
    "dfFinal=pd.DataFrame()\n",
    "#prueba\n",
    "#df1 = pd.DataFrame([statuses[1]._json])\n",
    "#df = pd.concat([df, df1], axis=0)\n",
    "\n",
    "for i in range(len(statuses)):\n",
    "    df = pd.DataFrame([statuses[i]._json])   \n",
    "    dfFinal=pd.concat([dfFinal,df], axis=0)\n",
    "print(dfFinal)\n",
    "\n",
    "dfFinal.to_csv('file3.csv', index=False, header=False)"
   ]
  }
 ],
 "metadata": {
  "kernelspec": {
   "display_name": "Python 3",
   "language": "python",
   "name": "python3"
  },
  "language_info": {
   "codemirror_mode": {
    "name": "ipython",
    "version": 3
   },
   "file_extension": ".py",
   "mimetype": "text/x-python",
   "name": "python",
   "nbconvert_exporter": "python",
   "pygments_lexer": "ipython3",
   "version": "3.8.8"
  }
 },
 "nbformat": 4,
 "nbformat_minor": 5
}

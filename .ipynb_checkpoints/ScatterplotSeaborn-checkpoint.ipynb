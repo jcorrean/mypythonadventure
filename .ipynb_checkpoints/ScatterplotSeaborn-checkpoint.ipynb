{
 "cells": [
  {
   "cell_type": "code",
   "execution_count": null,
   "id": "2eb79536",
   "metadata": {},
   "outputs": [],
   "source": [
    "import pandas as pd\n",
    "import seaborn as sbn"
   ]
  },
  {
   "cell_type": "code",
   "execution_count": null,
   "id": "968de764",
   "metadata": {},
   "outputs": [],
   "source": [
    "datos = pd.read_csv('newdata.csv')"
   ]
  },
  {
   "cell_type": "code",
   "execution_count": null,
   "id": "cad715c5",
   "metadata": {},
   "outputs": [],
   "source": [
    "datos.iloc[0:3,0:4]"
   ]
  },
  {
   "cell_type": "code",
   "execution_count": null,
   "id": "77b59c57",
   "metadata": {},
   "outputs": [],
   "source": [
    "sbn.scatterplot(data=datos, x='Number of Comments', y='Cost Delivery')"
   ]
  },
  {
   "cell_type": "code",
   "execution_count": null,
   "id": "d4d33671",
   "metadata": {},
   "outputs": [],
   "source": [
    "sbn.scatterplot(data=datos, x='Number of Comments', y='Cost Delivery', hue='Moment')"
   ]
  },
  {
   "cell_type": "code",
   "execution_count": null,
   "id": "15269bc6",
   "metadata": {},
   "outputs": [],
   "source": [
    "datos[['Cost Delivery','Time(min)']].plot.kde()"
   ]
  },
  {
   "cell_type": "markdown",
   "id": "e518577c",
   "metadata": {},
   "source": [
    "Observe que, aunque con la sintaxis anterior logramos sacar un gráfico de densidad para la variable \"Time(min)\" y la variable \"Cost Delivery\", dicho gráfico no tiene sentido. Ello es porque el gráfico está comparando dos variables que hacen referencia a cosas distintas (algo así como comparar peras con manzanas). La moraleja de este asunto es que en la analítica de datos aún cuando seamos capaces de lograr que la computadora nos obedezca y haga algo que le pidamos, el resultado no necesariamente tiene porque tener sentido lógico con la realidad."
   ]
  }
 ],
 "metadata": {
  "kernelspec": {
   "display_name": "Python 3",
   "language": "python",
   "name": "python3"
  },
  "language_info": {
   "codemirror_mode": {
    "name": "ipython",
    "version": 3
   },
   "file_extension": ".py",
   "mimetype": "text/x-python",
   "name": "python",
   "nbconvert_exporter": "python",
   "pygments_lexer": "ipython3",
   "version": "3.8.8"
  }
 },
 "nbformat": 4,
 "nbformat_minor": 5
}

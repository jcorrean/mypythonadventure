{
 "cells": [
  {
   "cell_type": "code",
   "execution_count": null,
   "id": "c6c08070",
   "metadata": {},
   "outputs": [],
   "source": [
    "import pandas as pd\n",
    "import numpy as np\n",
    "import matplotlib.pyplot as plt\n",
    "import seaborn as sbn"
   ]
  },
  {
   "cell_type": "code",
   "execution_count": null,
   "id": "37e1fe42",
   "metadata": {},
   "outputs": [],
   "source": [
    "datos = pd.read_csv( 'newdata.csv' )"
   ]
  },
  {
   "cell_type": "code",
   "execution_count": null,
   "id": "3a7feddd",
   "metadata": {},
   "outputs": [],
   "source": [
    "datos.head()"
   ]
  },
  {
   "cell_type": "code",
   "execution_count": null,
   "id": "2b5cb23f",
   "metadata": {},
   "outputs": [],
   "source": [
    "datos.iloc[0:2,4:6]"
   ]
  },
  {
   "cell_type": "markdown",
   "id": "dd416145",
   "metadata": {},
   "source": [
    "El resultado de la sintaxis anterior nos muestra un pedacito pequeño de toda la base de datos. Específicamente, nos muestra las primeras dos filas y la columna 4 y 5 de la base de datos. "
   ]
  },
  {
   "cell_type": "markdown",
   "id": "2dd0cbd4",
   "metadata": {},
   "source": [
    "Supongamos que queremos obtener un gráfico de torta para entender la distribución de observaciones hechas en las mañanas, al medio día y durante la tarde. Para ello, toca \"crear\" una nueva base de datos (la llamaremos \"data1\") dentro de la cual se agrupe el conteo de cada observación según la variable moment."
   ]
  },
  {
   "cell_type": "code",
   "execution_count": null,
   "id": "90d62d0a",
   "metadata": {},
   "outputs": [],
   "source": [
    "data1 = datos.groupby(\"Moment\")[\"Moment\"].count()\n",
    "data1.head()"
   ]
  },
  {
   "cell_type": "markdown",
   "id": "1b6018af",
   "metadata": {},
   "source": [
    "El resultado de la sintaxis anterior nos muestra que el número exacto de observaciones por la tarde fue de 6007, el de la mañana fue de 6965 y el del medio día fue de 6962. Ahora con esta agrupación ya estamos listos para sacar nuestro gráfico de torta."
   ]
  },
  {
   "cell_type": "code",
   "execution_count": null,
   "id": "f2dffc2a",
   "metadata": {},
   "outputs": [],
   "source": [
    "data1.plot.pie(autopct=\"%.2f%%\")"
   ]
  },
  {
   "cell_type": "code",
   "execution_count": null,
   "id": "5cdcc185",
   "metadata": {},
   "outputs": [],
   "source": [
    "sbn.scatterplot(data=datos, x=\"Cost Delivery\", y=\"Number of Comments\")"
   ]
  },
  {
   "cell_type": "markdown",
   "id": "049816e1",
   "metadata": {},
   "source": [
    "Hay algo extraño en este gráfico. Resulta que en el eje Y (todos los registros deben ser numéricos y resulta que aparece un registro de texto \"Amigos de la C\"... si uno saca un summary, puede darse cuenta de ese error dado que la variable \"Number of Comments\" es una variable numérica y al pedirse un resumen deberían aparecer los resultados estadísticos."
   ]
  },
  {
   "cell_type": "code",
   "execution_count": null,
   "id": "d1c222de",
   "metadata": {},
   "outputs": [],
   "source": [
    "datos['Number of Comments'].describe()"
   ]
  },
  {
   "cell_type": "markdown",
   "id": "100c0bc4",
   "metadata": {},
   "source": [
    "Compare cómo deberían salir los resultados de una variable numérica."
   ]
  },
  {
   "cell_type": "code",
   "execution_count": null,
   "id": "43a8a7fc",
   "metadata": {},
   "outputs": [],
   "source": [
    "datos[\"Cost Delivery\"].describe()"
   ]
  },
  {
   "cell_type": "markdown",
   "id": "e40c6c94",
   "metadata": {},
   "source": [
    "Como quiero hacer un scatterplot con number of comments y cost delivery, voy a crear una segunda base de datos que únicamente contenga estas dos variables. (Por conveniencia, esto lo hice en R con otro pequeño script). El script en R se llama \"ExportingFewVariablesForPythonAnalysis.R\" y está disponible [en este link](https://github.com/jcorrean/mypythonadventure/blob/main/ExportingFewVariablesForPythonAnalysis.R)"
   ]
  },
  {
   "cell_type": "code",
   "execution_count": null,
   "id": "65c4d1ea",
   "metadata": {},
   "outputs": [],
   "source": [
    "df = pd.read_excel('commentscost.xlsx')\n",
    "df.describe()"
   ]
  },
  {
   "cell_type": "code",
   "execution_count": null,
   "id": "33349dd1",
   "metadata": {},
   "outputs": [],
   "source": [
    "sbn.scatterplot(data=df, x=\"Cost Delivery\", y=\"Number of Comments\")"
   ]
  },
  {
   "cell_type": "code",
   "execution_count": null,
   "id": "e43f949c",
   "metadata": {},
   "outputs": [],
   "source": [
    "df['Log(Number of Comments)'] = np.log2(df['Number of Comments'])\n",
    "df['Log(Cost Delivery)'] = np.log2(df['Cost Delivery'])\n"
   ]
  },
  {
   "cell_type": "code",
   "execution_count": null,
   "id": "67a65569",
   "metadata": {},
   "outputs": [],
   "source": [
    "df.head()"
   ]
  },
  {
   "cell_type": "code",
   "execution_count": null,
   "id": "17e4f1e9",
   "metadata": {},
   "outputs": [],
   "source": [
    "sbn.scatterplot(data=df, x=\"Cost Delivery\", y=\"Log(Number of Comments)\")"
   ]
  },
  {
   "cell_type": "code",
   "execution_count": null,
   "id": "6583b4c7",
   "metadata": {},
   "outputs": [],
   "source": [
    "sbn.scatterplot(data=df, x=\"Log(Cost Delivery)\", y=\"Log(Number of Comments)\", hue=\"Moment\")"
   ]
  }
 ],
 "metadata": {
  "kernelspec": {
   "display_name": "Python 3",
   "language": "python",
   "name": "python3"
  },
  "language_info": {
   "codemirror_mode": {
    "name": "ipython",
    "version": 3
   },
   "file_extension": ".py",
   "mimetype": "text/x-python",
   "name": "python",
   "nbconvert_exporter": "python",
   "pygments_lexer": "ipython3",
   "version": "3.8.8"
  }
 },
 "nbformat": 4,
 "nbformat_minor": 5
}

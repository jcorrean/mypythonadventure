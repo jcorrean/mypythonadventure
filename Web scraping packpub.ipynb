{
 "cells": [
  {
   "cell_type": "markdown",
   "id": "6afb3c7b",
   "metadata": {},
   "source": [
    "Este jupyter notebook nos ayudará a entender qué es hacer web scraping en una página web desde un punto de vista práctico. El contenido de este jupyter notebook ha sido adaptado del capítulo 8 del libro de texto ***Getting Started with Beautiful Soup*** de Vineeth G. Nair (2014)."
   ]
  },
  {
   "cell_type": "markdown",
   "id": "d4f48673",
   "metadata": {},
   "source": [
    "# Primer Paso: \n",
    "## Definir cuál es la página web desde donde vamos a extraer los datos\n",
    "\n",
    "Aquí vamos a utilizar la página web [packtpub.com](https://www.packtpub.com/). Sobre esta página el scraper que construiremos nos permitirá extraer los datos del precio de una lista de libros vendidos en esa página web y buscar en otras páginas como [amazon.com](www.amazon.com) o [barnes and nobles](www.barnesandnobles.com) empleando el ISBN de cada libro (el ISBN de un libro es el equivalente a la cédula de identidad de una persona. Ayuda a identificar inequívocamente al libro)."
   ]
  },
  {
   "cell_type": "markdown",
   "id": "eea29be0",
   "metadata": {},
   "source": [
    "# Segundo Paso:\n",
    "\n",
    "## Explorar el contenido de la página web \n",
    "\n",
    "En este caso, solo vamos a concentrarnos en el título de cada libro, su precio de venta y su ISBN. Para explorar el contenido, primero ingresamos a la página web con un navegador y miramos su contenido como lo hacemos usualmente. Luego, "
   ]
  }
 ],
 "metadata": {
  "kernelspec": {
   "display_name": "Python 3",
   "language": "python",
   "name": "python3"
  },
  "language_info": {
   "codemirror_mode": {
    "name": "ipython",
    "version": 3
   },
   "file_extension": ".py",
   "mimetype": "text/x-python",
   "name": "python",
   "nbconvert_exporter": "python",
   "pygments_lexer": "ipython3",
   "version": "3.8.8"
  }
 },
 "nbformat": 4,
 "nbformat_minor": 5
}

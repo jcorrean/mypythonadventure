{
 "cells": [
  {
   "cell_type": "markdown",
   "id": "5b4dacc6",
   "metadata": {},
   "source": [
    "# Un primer ejemplo sencillo\n",
    "\n",
    "## Abrir un archivo csv (coma separated values) con un par de variables\n",
    "\n",
    "En este jupyter Notebook se muestran algunas tareas muy básicas para entender cómo funciona un jupyter Notebook."
   ]
  },
  {
   "cell_type": "code",
   "execution_count": 5,
   "id": "824863e9",
   "metadata": {},
   "outputs": [
    {
     "data": {
      "text/html": [
       "<div>\n",
       "<style scoped>\n",
       "    .dataframe tbody tr th:only-of-type {\n",
       "        vertical-align: middle;\n",
       "    }\n",
       "\n",
       "    .dataframe tbody tr th {\n",
       "        vertical-align: top;\n",
       "    }\n",
       "\n",
       "    .dataframe thead th {\n",
       "        text-align: right;\n",
       "    }\n",
       "</style>\n",
       "<table border=\"1\" class=\"dataframe\">\n",
       "  <thead>\n",
       "    <tr style=\"text-align: right;\">\n",
       "      <th></th>\n",
       "      <th>Notas</th>\n",
       "      <th>Ingreso Familiar</th>\n",
       "    </tr>\n",
       "  </thead>\n",
       "  <tbody>\n",
       "    <tr>\n",
       "      <th>0</th>\n",
       "      <td>92</td>\n",
       "      <td>38587</td>\n",
       "    </tr>\n",
       "    <tr>\n",
       "      <th>1</th>\n",
       "      <td>81</td>\n",
       "      <td>24000</td>\n",
       "    </tr>\n",
       "    <tr>\n",
       "      <th>2</th>\n",
       "      <td>81</td>\n",
       "      <td>24000</td>\n",
       "    </tr>\n",
       "    <tr>\n",
       "      <th>3</th>\n",
       "      <td>90</td>\n",
       "      <td>38379</td>\n",
       "    </tr>\n",
       "    <tr>\n",
       "      <th>4</th>\n",
       "      <td>89</td>\n",
       "      <td>44048</td>\n",
       "    </tr>\n",
       "  </tbody>\n",
       "</table>\n",
       "</div>"
      ],
      "text/plain": [
       "   Notas  Ingreso Familiar\n",
       "0     92             38587\n",
       "1     81             24000\n",
       "2     81             24000\n",
       "3     90             38379\n",
       "4     89             44048"
      ]
     },
     "execution_count": 5,
     "metadata": {},
     "output_type": "execute_result"
    }
   ],
   "source": [
    "import pandas as pd\n",
    "datos = pd.read_csv('NotasIngresos.csv')\n",
    "datos.head()"
   ]
  },
  {
   "cell_type": "code",
   "execution_count": 7,
   "id": "17be8a5f",
   "metadata": {},
   "outputs": [
    {
     "data": {
      "image/png": "[encoded data removed]",
      "text/plain": [
       "<Figure size 432x288 with 2 Axes>"
      ]
     },
     "metadata": {
      "needs_background": "light"
     },
     "output_type": "display_data"
    }
   ],
   "source": [
    "hist = datos.hist()"
   ]
  },
  {
   "cell_type": "markdown",
   "id": "5f596653",
   "metadata": {},
   "source": [
    "Observe que la sintaxis anterior nos permitió hacer un histograma para las dos variables de la base de datos que llamamos \"datos\" y que proviene del archivo \"NotasIngresos.csv\". Pero como los gráficos no suelen brindar información numéricamente muy precisa a la vista, entonces complementemos estos histogramas con un resumen estadístico de estas dos variables."
   ]
  },
  {
   "cell_type": "code",
   "execution_count": 10,
   "id": "fbdbca40",
   "metadata": {},
   "outputs": [
    {
     "data": {
      "text/html": [
       "<div>\n",
       "<style scoped>\n",
       "    .dataframe tbody tr th:only-of-type {\n",
       "        vertical-align: middle;\n",
       "    }\n",
       "\n",
       "    .dataframe tbody tr th {\n",
       "        vertical-align: top;\n",
       "    }\n",
       "\n",
       "    .dataframe thead th {\n",
       "        text-align: right;\n",
       "    }\n",
       "</style>\n",
       "<table border=\"1\" class=\"dataframe\">\n",
       "  <thead>\n",
       "    <tr style=\"text-align: right;\">\n",
       "      <th></th>\n",
       "      <th>Notas</th>\n",
       "      <th>Ingreso Familiar</th>\n",
       "    </tr>\n",
       "  </thead>\n",
       "  <tbody>\n",
       "    <tr>\n",
       "      <th>count</th>\n",
       "      <td>100.000000</td>\n",
       "      <td>100.000000</td>\n",
       "    </tr>\n",
       "    <tr>\n",
       "      <th>mean</th>\n",
       "      <td>89.990000</td>\n",
       "      <td>33526.630000</td>\n",
       "    </tr>\n",
       "    <tr>\n",
       "      <th>std</th>\n",
       "      <td>6.548182</td>\n",
       "      <td>10058.283479</td>\n",
       "    </tr>\n",
       "    <tr>\n",
       "      <th>min</th>\n",
       "      <td>80.000000</td>\n",
       "      <td>24000.000000</td>\n",
       "    </tr>\n",
       "    <tr>\n",
       "      <th>25%</th>\n",
       "      <td>84.000000</td>\n",
       "      <td>24000.000000</td>\n",
       "    </tr>\n",
       "    <tr>\n",
       "      <th>50%</th>\n",
       "      <td>90.000000</td>\n",
       "      <td>30574.000000</td>\n",
       "    </tr>\n",
       "    <tr>\n",
       "      <th>75%</th>\n",
       "      <td>96.000000</td>\n",
       "      <td>41750.000000</td>\n",
       "    </tr>\n",
       "    <tr>\n",
       "      <th>max</th>\n",
       "      <td>100.000000</td>\n",
       "      <td>54894.000000</td>\n",
       "    </tr>\n",
       "  </tbody>\n",
       "</table>\n",
       "</div>"
      ],
      "text/plain": [
       "            Notas  Ingreso Familiar\n",
       "count  100.000000        100.000000\n",
       "mean    89.990000      33526.630000\n",
       "std      6.548182      10058.283479\n",
       "min     80.000000      24000.000000\n",
       "25%     84.000000      24000.000000\n",
       "50%     90.000000      30574.000000\n",
       "75%     96.000000      41750.000000\n",
       "max    100.000000      54894.000000"
      ]
     },
     "execution_count": 10,
     "metadata": {},
     "output_type": "execute_result"
    }
   ],
   "source": [
    "datos.describe()"
   ]
  },
  {
   "cell_type": "markdown",
   "id": "4c20e084",
   "metadata": {},
   "source": [
    "Tanto la sintaxis como su resultado son bastante sencillos de comprender ¿Cierto? Pero, ¿y si tan solo quisiera obtener los resultados o el histograma para una variable y no para todas?"
   ]
  },
  {
   "cell_type": "code",
   "execution_count": 11,
   "id": "d65fe981",
   "metadata": {},
   "outputs": [
    {
     "data": {
      "text/plain": [
       "count    100.000000\n",
       "mean      89.990000\n",
       "std        6.548182\n",
       "min       80.000000\n",
       "25%       84.000000\n",
       "50%       90.000000\n",
       "75%       96.000000\n",
       "max      100.000000\n",
       "Name: Notas, dtype: float64"
      ]
     },
     "execution_count": 11,
     "metadata": {},
     "output_type": "execute_result"
    }
   ],
   "source": [
    "datos.Notas.describe()"
   ]
  },
  {
   "cell_type": "code",
   "execution_count": 16,
   "id": "84c5ef7c",
   "metadata": {},
   "outputs": [
    {
     "name": "stdout",
     "output_type": "stream",
     "text": [
      "<class 'pandas.core.frame.DataFrame'>\n",
      "RangeIndex: 100 entries, 0 to 99\n",
      "Data columns (total 2 columns):\n",
      " #   Column            Non-Null Count  Dtype\n",
      "---  ------            --------------  -----\n",
      " 0   Notas             100 non-null    int64\n",
      " 1   Ingreso Familiar  100 non-null    int64\n",
      "dtypes: int64(2)\n",
      "memory usage: 1.7 KB\n"
     ]
    }
   ],
   "source": [
    "datos.info()"
   ]
  },
  {
   "cell_type": "code",
   "execution_count": 19,
   "id": "58f16720",
   "metadata": {},
   "outputs": [
    {
     "data": {
      "text/plain": [
       "count      100.000000\n",
       "mean     33526.630000\n",
       "std      10058.283479\n",
       "min      24000.000000\n",
       "25%      24000.000000\n",
       "50%      30574.000000\n",
       "75%      41750.000000\n",
       "max      54894.000000\n",
       "Name: Ingreso Familiar, dtype: float64"
      ]
     },
     "execution_count": 19,
     "metadata": {},
     "output_type": "execute_result"
    }
   ],
   "source": [
    "datos['Ingreso Familiar'].describe()"
   ]
  },
  {
   "cell_type": "markdown",
   "id": "1d6ca532",
   "metadata": {},
   "source": [
    "¿Observó cuál es la diferencia entre la sintaxis que nos devuelve el resumen estadístico de la variable Notas versus la sintaxis que hace lo mismo para Ingreso Familiar?\n",
    "\n",
    "Efectivamente. Cuando una variable tiene espacio en blanco para separar palabras (ejemplo, \"Ingreso Familiar\") la sintaxis abreviada datos.Ingreso Familiar.describe() no nos va a funcionar. Por eso, recurrimos una sintaxis algo diferente. "
   ]
  }
 ],
 "metadata": {
  "kernelspec": {
   "display_name": "Python 3",
   "language": "python",
   "name": "python3"
  },
  "language_info": {
   "codemirror_mode": {
    "name": "ipython",
    "version": 3
   },
   "file_extension": ".py",
   "mimetype": "text/x-python",
   "name": "python",
   "nbconvert_exporter": "python",
   "pygments_lexer": "ipython3",
   "version": "3.8.8"
  }
 },
 "nbformat": 4,
 "nbformat_minor": 5
}

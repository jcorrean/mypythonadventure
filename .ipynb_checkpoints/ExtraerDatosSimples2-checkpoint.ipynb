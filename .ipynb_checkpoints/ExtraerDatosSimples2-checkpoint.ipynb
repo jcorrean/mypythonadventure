{
 "cells": [
  {
   "cell_type": "code",
   "execution_count": 1,
   "id": "4e246443",
   "metadata": {},
   "outputs": [],
   "source": [
    "import requests"
   ]
  },
  {
   "cell_type": "code",
   "execution_count": 2,
   "id": "5e6fb938",
   "metadata": {},
   "outputs": [],
   "source": [
    "URL = 'https://econpy.pythonanywhere.com/ex/001.html'"
   ]
  },
  {
   "cell_type": "code",
   "execution_count": 4,
   "id": "a8308d75",
   "metadata": {},
   "outputs": [
    {
     "name": "stdout",
     "output_type": "stream",
     "text": [
      "Carson Busses\n",
      "Earl E. Byrd\n",
      "Patty Cakes\n",
      "Derri Anne Connecticut\n",
      "Moe Dess\n",
      "Leda Doggslife\n",
      "Dan Druff\n",
      "Al Fresco\n",
      "Ido Hoe\n",
      "Howie Kisses\n",
      "Len Lease\n",
      "Phil Meup\n",
      "Ira Pent\n",
      "Ben D. Rules\n",
      "Ave Sectomy\n",
      "Gary Shattire\n",
      "Bobbi Soks\n",
      "Sheila Takya\n",
      "Rose Tattoo\n",
      "Moe Tell\n"
     ]
    }
   ],
   "source": [
    "response = requests.get(URL)\n",
    "if response.status_code == 200:\n",
    "    content = response.text\n",
    "    \n",
    "    regexa = '<div title=\"buyer-name\">'\n",
    "    regexb = '</div>'\n",
    "    \n",
    "    for line in content.split('\\n'):\n",
    "        if regexa in line:\n",
    "            start = line.find(regexa) + len(regexa)\n",
    "            end = line.find(regexb)\n",
    "            \n",
    "            title = line[start:end]\n",
    "            \n",
    "            print(title)"
   ]
  }
 ],
 "metadata": {
  "kernelspec": {
   "display_name": "Python 3",
   "language": "python",
   "name": "python3"
  },
  "language_info": {
   "codemirror_mode": {
    "name": "ipython",
    "version": 3
   },
   "file_extension": ".py",
   "mimetype": "text/x-python",
   "name": "python",
   "nbconvert_exporter": "python",
   "pygments_lexer": "ipython3",
   "version": "3.8.8"
  }
 },
 "nbformat": 4,
 "nbformat_minor": 5
}

{
 "cells": [
  {
   "cell_type": "code",
   "execution_count": null,
   "id": "07871351",
   "metadata": {},
   "outputs": [],
   "source": [
    "import pandas as pd\n",
    "print(pd.__version__)"
   ]
  },
  {
   "cell_type": "code",
   "execution_count": null,
   "id": "7bb1bb15",
   "metadata": {},
   "outputs": [],
   "source": [
    "datos = pd.read_excel('corruption-data.xls')"
   ]
  },
  {
   "cell_type": "code",
   "execution_count": null,
   "id": "92071150",
   "metadata": {},
   "outputs": [],
   "source": [
    "datos.head()"
   ]
  },
  {
   "cell_type": "markdown",
   "id": "2ba075e1",
   "metadata": {},
   "source": [
    "## Resumen\n",
    "En la sintaxis anterior, se abre la primera hoja del archivo de excel que en realidad tiene cuatro hojas. Aprendamos cómo se abre una hoja específica."
   ]
  },
  {
   "cell_type": "code",
   "execution_count": null,
   "id": "935f8b47",
   "metadata": {},
   "outputs": [],
   "source": [
    "datos2 = pd.read_excel('corruption-data.xls', sheet_name=1)\n",
    "datos2.head()"
   ]
  },
  {
   "cell_type": "code",
   "execution_count": null,
   "id": "e738576e",
   "metadata": {},
   "outputs": [],
   "source": [
    "datos3 = pd.read_excel('corruption-data.xls', sheet_name=2)\n",
    "datos3.head()"
   ]
  },
  {
   "cell_type": "code",
   "execution_count": null,
   "id": "6296a16e",
   "metadata": {},
   "outputs": [],
   "source": [
    "datos4 = pd.read_excel('corruption-data.xls', sheet_name='CountriesScientificRelativeProduction')\n",
    "datos4.head()"
   ]
  },
  {
   "cell_type": "markdown",
   "id": "914224ba",
   "metadata": {},
   "source": [
    "Hasta este punto, usted ya sabe cómo se abre un archivo de excel, apoyándose en las sintaxis de ejemplo anteriores. Ahora, vamos a ver si usted es capaz de abrir otro archivo de Excel y crear un par de gráficos con base en lo que hemos aprendido hasta ahora.\n",
    "# Instrucciones\n",
    "\n",
    "1. Abra el archivo corruption_dataset.xlsx\n",
    "2. Lea la sección \"METHODS\" del artículo de Correa & Jaffe (2015) que está disponible en la siguiente [Página web](https://arxiv.org/pdf/1604.00283.pdf)\n",
    "3. Abra una nueva celda debajo de esta y responda a las siguientes preguntas:\n",
    "-3.1. Demuestre con una sintaxis cuántas columnas tiene el archivo corruption_dataset.xlsx\n",
    "\n",
    "-3.2. A partir de la lectura de la sección \"METHODS\" del artículo de Correa & Jaffe (2015), ¿Cuántas fuentes de datos fueron empleadas para construir la base de datos? Mencione también en una lista cuáles fueron estas fuentes de datos.\n",
    "\n",
    "-3.3. Elabore un gráfico bivariable que evidencie su capacidad para aplicar sintaxis que permiten la visualización de relaciones entre variables.\n",
    "\n",
    "-3.4. Elabore un gráfico que muestre el comportamiento estadístico de una variable de su interés.\n",
    "\n",
    "-3.5. Desarrolle por escrito su opinión personal sobre la relevancia de conocer la realidad de la corrupción en los diferentes países para fines de gerencia y de emprendimiento (elabore una respuesta con al menos 200 palabras)\n"
   ]
  }
 ],
 "metadata": {
  "kernelspec": {
   "display_name": "Python 3",
   "language": "python",
   "name": "python3"
  },
  "language_info": {
   "codemirror_mode": {
    "name": "ipython",
    "version": 3
   },
   "file_extension": ".py",
   "mimetype": "text/x-python",
   "name": "python",
   "nbconvert_exporter": "python",
   "pygments_lexer": "ipython3",
   "version": "3.8.8"
  }
 },
 "nbformat": 4,
 "nbformat_minor": 5
}

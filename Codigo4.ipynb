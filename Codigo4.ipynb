{
 "cells": [
  {
   "cell_type": "code",
   "execution_count": 2,
   "id": "ca3222cf",
   "metadata": {},
   "outputs": [],
   "source": [
    "import pandas as pd\n",
    "import numpy as np"
   ]
  },
  {
   "cell_type": "code",
   "execution_count": 3,
   "id": "755905f4",
   "metadata": {},
   "outputs": [],
   "source": [
    "# Primero, es necesario transformar la base de datos a una matriz de correlación\n",
    "# El número de variables es igual al número de columnas en la base de datos\n",
    "# Para esto, recorreremos las columnas y agregaremos \n",
    "# cada correlación relevante a una matriz llamada \"r_s\". \n",
    "# Luego, calcularemos la media de \"r_s\""
   ]
  },
  {
   "cell_type": "code",
   "execution_count": 4,
   "id": "d78b64c8",
   "metadata": {},
   "outputs": [],
   "source": [
    "def cronbach_alpha(df):\n",
    "    \n",
    "    df_corr = df.corr()\n",
    "\n",
    "    N = df.shape[1]\n",
    "    \n",
    "    rs = np.array([])\n",
    "    for i, col in enumerate(df_corr.columns):\n",
    "        sum_ = df_corr[col][i+1:].values\n",
    "        rs = np.append(sum_, rs)\n",
    "    mean_r = np.mean(rs)\n",
    "    \n",
    "\n",
    "    cronbach_alpha = (N * mean_r) / (1 + (N - 1) * mean_r)\n",
    "    return cronbach_alpha"
   ]
  }
 ],
 "metadata": {
  "kernelspec": {
   "display_name": "Python 3",
   "language": "python",
   "name": "python3"
  },
  "language_info": {
   "codemirror_mode": {
    "name": "ipython",
    "version": 3
   },
   "file_extension": ".py",
   "mimetype": "text/x-python",
   "name": "python",
   "nbconvert_exporter": "python",
   "pygments_lexer": "ipython3",
   "version": "3.8.8"
  }
 },
 "nbformat": 4,
 "nbformat_minor": 5
}

{
 "cells": [
  {
   "cell_type": "code",
   "execution_count": null,
   "id": "d872842c",
   "metadata": {},
   "outputs": [],
   "source": [
    "import requests\n",
    "from bs4 import BeautifulSoup"
   ]
  },
  {
   "cell_type": "code",
   "execution_count": null,
   "id": "cf5c7e67",
   "metadata": {},
   "outputs": [],
   "source": [
    "DOMAIN = 'https://pokemondb.net'\n",
    "URL = '/pokedex/all'\n",
    "URL"
   ]
  },
  {
   "cell_type": "code",
   "execution_count": null,
   "id": "ed24d729",
   "metadata": {},
   "outputs": [],
   "source": [
    "response = requests.get(DOMAIN + URL)\n",
    "response"
   ]
  },
  {
   "cell_type": "code",
   "execution_count": null,
   "id": "73c67497",
   "metadata": {},
   "outputs": [],
   "source": [
    "if response.status_code == 200:\n",
    "    content = response.text\n",
    "    soup = BeautifulSoup(content, 'html.parser')\n",
    "    print(soup.prettify())"
   ]
  },
  {
   "cell_type": "code",
   "execution_count": null,
   "id": "1a10fe84",
   "metadata": {},
   "outputs": [],
   "source": [
    "table = soup.find('table', {'id': 'pokedex'})\n",
    "table"
   ]
  },
  {
   "cell_type": "code",
   "execution_count": null,
   "id": "1a1084bf",
   "metadata": {},
   "outputs": [],
   "source": [
    "for row in table.tbody.find_all('tr', limit=10):\n",
    "    columns = row.find_all('td', limit=3)\n",
    "    name=columns[1].a.text\n",
    "    type=[ a.text for a in columns[2].find_all('a') ]\n",
    "    link = DOMAIN + columns[1].a['href']\n",
    "    pokemon_response = requests.get(link)\n",
    "    if pokemon_response.status_code == 200:\n",
    "        pokemon_content = pokemon_response.text\n",
    "        pokemon_soup = BeautifulSoup(pokemon_content, 'html.parser')\n",
    "        pokemon_table = pokemon_soup.find('table', class_='vitals-table')\n",
    "        Species = pokemon_table.tbody.find_all('tr')[2].td.text\n",
    "        print(Species)\n",
    "    "
   ]
  },
  {
   "cell_type": "code",
   "execution_count": null,
   "id": "715ba592",
   "metadata": {},
   "outputs": [],
   "source": [
    "for row in table.tbody.find_all('tr', limit = 20):\n",
    "    columns = row.find_all('td', limit=3)\n",
    "    \n",
    "    name = columns[1].a.text\n",
    "    type = [a.text for a in columns[2].find_all('a') ]\n",
    "    link = DOMAIN + columns[1].a['href']\n",
    "    \n",
    "    pokemon_response = requests.get(link)\n",
    "    \n",
    "    if pokemon_response.status_code == 200:\n",
    "        pokemon_content = pokemon_response.text\n",
    "        pokemon_soup = BeautifulSoup(pokemon_content, 'html.parser')\n",
    "        pokemon_table = pokemon_soup.find('table', class_='vitals-table')\n",
    "        species = pokemon_table.tbody.find_all('tr')[2].td.text\n",
    "    \n",
    "    print(name, '-', *type, '-', 'species')"
   ]
  }
 ],
 "metadata": {
  "kernelspec": {
   "display_name": "Python 3",
   "language": "python",
   "name": "python3"
  },
  "language_info": {
   "codemirror_mode": {
    "name": "ipython",
    "version": 3
   },
   "file_extension": ".py",
   "mimetype": "text/x-python",
   "name": "python",
   "nbconvert_exporter": "python",
   "pygments_lexer": "ipython3",
   "version": "3.8.8"
  }
 },
 "nbformat": 4,
 "nbformat_minor": 5
}

{
 "cells": [
  {
   "cell_type": "code",
   "execution_count": null,
   "id": "4e246443",
   "metadata": {},
   "outputs": [],
   "source": [
    "import requests\n",
    "import re"
   ]
  },
  {
   "cell_type": "code",
   "execution_count": null,
   "id": "5e6fb938",
   "metadata": {},
   "outputs": [],
   "source": [
    "URL = 'https://econpy.pythonanywhere.com/ex/001.html'"
   ]
  },
  {
   "cell_type": "code",
   "execution_count": null,
   "id": "a8308d75",
   "metadata": {},
   "outputs": [],
   "source": [
    "response = requests.get(URL)\n",
    "if response.status_code == 200:\n",
    "    content = response.text\n",
    "    regex = '<div title=\"buyer-name\">(.+?)</div>'\n",
    "    for title in re.findall(regex, content):\n",
    "        print(title)"
   ]
  }
 ],
 "metadata": {
  "kernelspec": {
   "display_name": "Python 3",
   "language": "python",
   "name": "python3"
  },
  "language_info": {
   "codemirror_mode": {
    "name": "ipython",
    "version": 3
   },
   "file_extension": ".py",
   "mimetype": "text/x-python",
   "name": "python",
   "nbconvert_exporter": "python",
   "pygments_lexer": "ipython3",
   "version": "3.8.8"
  }
 },
 "nbformat": 4,
 "nbformat_minor": 5
}

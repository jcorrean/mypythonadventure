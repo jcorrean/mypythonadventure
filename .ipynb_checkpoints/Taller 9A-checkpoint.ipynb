{
 "cells": [
  {
   "cell_type": "code",
   "execution_count": null,
   "id": "07871351",
   "metadata": {},
   "outputs": [],
   "source": [
    "import pandas as pd\n",
    "print(pd.__version__)"
   ]
  },
  {
   "cell_type": "code",
   "execution_count": null,
   "id": "7bb1bb15",
   "metadata": {},
   "outputs": [],
   "source": [
    "datos = pd.read_excel('corruption-data.xls')"
   ]
  },
  {
   "cell_type": "code",
   "execution_count": null,
   "id": "92071150",
   "metadata": {},
   "outputs": [],
   "source": [
    "datos.head()"
   ]
  },
  {
   "cell_type": "markdown",
   "id": "914224ba",
   "metadata": {},
   "source": [
    "# Instrucciones\n",
    "\n",
    "1. Abra el archivo corruption_dataset.xlsx\n",
    "2. Lea la sección \"METHODS\" del artículo de Correa & Jaffe (2015) que está disponible en la siguiente [Página web](https://arxiv.org/pdf/1604.00283.pdf)\n",
    "3. Abra una nueva celda debajo de esta y responda a las siguientes preguntas:\n",
    "-3.1. A partir de la lectura de la sección \"METHODS\" del artículo de Correa & Jaffe (2015), ¿Cuáles fuentes de datos fueron empleadas para construir la base de datos?\n",
    "\n",
    "-3.2. Si se deseara crear un sola tabla de datos con todas las variables de todas las fuentes de datos, argumente qué variable usaría y por qué. Mencione además qué problemas se encontraría en el camino en el proceso de disponer todos esos datos en una única tabla. \n",
    "\n",
    "-3.3. Elabore un gráfico bivariable para visualizar las relaciones entre variables y redacte un análisis que le ayude al lector a interpretar dicho gráfico. Seleccione las variables cuidadosamente considerando el contexto del artículo de Correa & Jaffe (2015) \n",
    "\n",
    "-3.4. Elabore un gráfico que muestre el comportamiento estadístico de alguna de las variables analizadas.\n",
    "\n",
    "-3.5. Con base en las conclusiones del artículo de Correa & Jaffe (2015) desarrolle por escrito su opinión personal sobre la relevancia de conocer la realidad de la corrupción en los diferentes países para fines de gerencia y de emprendimiento (elabore una respuesta con al menos 200 palabras)\n"
   ]
  }
 ],
 "metadata": {
  "kernelspec": {
   "display_name": "Python 3",
   "language": "python",
   "name": "python3"
  },
  "language_info": {
   "codemirror_mode": {
    "name": "ipython",
    "version": 3
   },
   "file_extension": ".py",
   "mimetype": "text/x-python",
   "name": "python",
   "nbconvert_exporter": "python",
   "pygments_lexer": "ipython3",
   "version": "3.8.8"
  }
 },
 "nbformat": 4,
 "nbformat_minor": 5
}

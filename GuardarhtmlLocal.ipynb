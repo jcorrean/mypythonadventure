{
 "cells": [
  {
   "cell_type": "code",
   "execution_count": null,
   "id": "9b260812",
   "metadata": {},
   "outputs": [],
   "source": [
    "import requests"
   ]
  },
  {
   "cell_type": "code",
   "execution_count": null,
   "id": "06621239",
   "metadata": {},
   "outputs": [],
   "source": [
    "URL = 'https://econpy.pythonanywhere.com/ex/001.html'"
   ]
  },
  {
   "cell_type": "code",
   "execution_count": null,
   "id": "4543c033",
   "metadata": {},
   "outputs": [],
   "source": [
    "response = requests.get(URL)\n",
    "if response.status.code == 200:\n",
    "    content = response.text # str\n",
    "    with open ('econpy.html', w+) as file:\n",
    "        file.write(content)"
   ]
  }
 ],
 "metadata": {
  "kernelspec": {
   "display_name": "Python 3",
   "language": "python",
   "name": "python3"
  },
  "language_info": {
   "codemirror_mode": {
    "name": "ipython",
    "version": 3
   },
   "file_extension": ".py",
   "mimetype": "text/x-python",
   "name": "python",
   "nbconvert_exporter": "python",
   "pygments_lexer": "ipython3",
   "version": "3.8.8"
  }
 },
 "nbformat": 4,
 "nbformat_minor": 5
}

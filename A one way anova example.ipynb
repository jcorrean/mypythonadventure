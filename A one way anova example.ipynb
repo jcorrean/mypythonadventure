{
 "cells": [
  {
   "cell_type": "code",
   "execution_count": null,
   "id": "ad51b1e5",
   "metadata": {},
   "outputs": [],
   "source": [
    "import pandas as pd"
   ]
  },
  {
   "cell_type": "markdown",
   "id": "cfab615d",
   "metadata": {},
   "source": [
    "En la próxima sintaxis vamos a instalar la librería pingouin. De hecho, esta sintaxis sirve siempre para instalar cualquier otra librería. Lo único que se necesita es conocer el nombre específico de la librería que necesitamos instalar, y escribimos su nombre luego de pip install (si la instalación de pinguoin ya lo hizo en una oportunidad anterior, no vale la pena volver a correr la siguiente sintaxis)."
   ]
  },
  {
   "cell_type": "code",
   "execution_count": null,
   "id": "faf6392d",
   "metadata": {},
   "outputs": [],
   "source": [
    "pip install pingouin"
   ]
  },
  {
   "cell_type": "code",
   "execution_count": null,
   "id": "b4adfb7e",
   "metadata": {},
   "outputs": [],
   "source": [
    "import pingouin as pg"
   ]
  },
  {
   "cell_type": "code",
   "execution_count": null,
   "id": "5f47257d",
   "metadata": {},
   "outputs": [],
   "source": [
    "data = \"https://vincentarelbundock.github.io/Rdatasets/csv/datasets/PlantGrowth.csv\"\n",
    "data"
   ]
  },
  {
   "cell_type": "code",
   "execution_count": null,
   "id": "d2493ef7",
   "metadata": {},
   "outputs": [],
   "source": [
    "df = pd.read_csv(data, index_col=0)\n",
    "df.tail()"
   ]
  },
  {
   "cell_type": "code",
   "execution_count": null,
   "id": "8f42922a",
   "metadata": {},
   "outputs": [],
   "source": [
    "pg.pairwise_tukey(dv='weight', between='group', data=df)"
   ]
  },
  {
   "cell_type": "code",
   "execution_count": null,
   "id": "94e40fff",
   "metadata": {},
   "outputs": [],
   "source": [
    "import seaborn as sns\n",
    "sns.set(style=\"whitegrid\")\n",
    "sns.kdeplot(data=df, x=\"weight\", hue=\"group\", cut=0, fill=True, common_norm=False, alpha=0.1)"
   ]
  }
 ],
 "metadata": {
  "kernelspec": {
   "display_name": "Python 3",
   "language": "python",
   "name": "python3"
  },
  "language_info": {
   "codemirror_mode": {
    "name": "ipython",
    "version": 3
   },
   "file_extension": ".py",
   "mimetype": "text/x-python",
   "name": "python",
   "nbconvert_exporter": "python",
   "pygments_lexer": "ipython3",
   "version": "3.8.8"
  }
 },
 "nbformat": 4,
 "nbformat_minor": 5
}

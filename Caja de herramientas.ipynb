{
 "cells": [
  {
   "cell_type": "markdown",
   "id": "0248adeb",
   "metadata": {},
   "source": [
    "# Caja de herramientas para analizar datos"
   ]
  },
  {
   "cell_type": "markdown",
   "id": "90e0c7dd",
   "metadata": {},
   "source": [
    "# 1. Comparación de dos grupos (t de Student)\n",
    "\n",
    "La prueba t de sutdent es útil para cuando uno desea saber si dos grupos son iguales o no estadísticamente en una variable continua."
   ]
  },
  {
   "cell_type": "code",
   "execution_count": 10,
   "id": "bed8c337",
   "metadata": {},
   "outputs": [
    {
     "name": "stdout",
     "output_type": "stream",
     "text": [
      "t=-2.262, p=0.025\n"
     ]
    }
   ],
   "source": [
    "# Student's t-test for independent samples\n",
    "from numpy.random import seed\n",
    "from numpy.random import randn\n",
    "from scipy.stats import ttest_ind\n",
    "# seed the random number generator\n",
    "seed(1)\n",
    "# generate two independent samples\n",
    "data1 = 5 * randn(100) + 50\n",
    "data2 = 5 * randn(100) + 51\n",
    "# compare samples\n",
    "stat, p = ttest_ind(data1, data2)\n",
    "print('t=%.3f, p=%.3f' % (stat, p))"
   ]
  },
  {
   "cell_type": "code",
   "execution_count": null,
   "id": "b66fc64f",
   "metadata": {},
   "outputs": [],
   "source": [
    " sns.distplot(subset['arr_delay'], hist = False, kde = True,\n",
    "                 kde_kws = {'linewidth': 3},\n",
    "                 label = airline)"
   ]
  }
 ],
 "metadata": {
  "kernelspec": {
   "display_name": "Python 3",
   "language": "python",
   "name": "python3"
  },
  "language_info": {
   "codemirror_mode": {
    "name": "ipython",
    "version": 3
   },
   "file_extension": ".py",
   "mimetype": "text/x-python",
   "name": "python",
   "nbconvert_exporter": "python",
   "pygments_lexer": "ipython3",
   "version": "3.8.8"
  }
 },
 "nbformat": 4,
 "nbformat_minor": 5
}

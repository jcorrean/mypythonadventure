{
 "cells": [
  {
   "cell_type": "code",
   "execution_count": null,
   "id": "2438f302",
   "metadata": {},
   "outputs": [],
   "source": [
    " pip install python-twitter"
   ]
  },
  {
   "cell_type": "code",
   "execution_count": null,
   "id": "c170c2e7",
   "metadata": {},
   "outputs": [],
   "source": [
    "pip install pytest"
   ]
  },
  {
   "cell_type": "code",
   "execution_count": null,
   "id": "622e7e0e",
   "metadata": {},
   "outputs": [],
   "source": [
    "pip install pytest-cov"
   ]
  },
  {
   "cell_type": "code",
   "execution_count": 1,
   "id": "7799fd5f",
   "metadata": {},
   "outputs": [],
   "source": [
    "import twitter\n",
    "api = twitter.Api(consumer_key='rd14R05VWWPQx8XuZvQui3lKE',\n",
    "                  consumer_secret='6OuHdUePGu8AcNBgy68uUqKUE4ymsb9Ws7ybo83WARAEnpVbrJ',\n",
    "                  access_token_key='106483037-YrbcnC6R9FcThIYfvXUR7VUihKIUnN5KeZvjkq7D',\n",
    "                  access_token_secret='BJdEe21hxvkGvestCiwI3AApWf17L8LhQORBsdztlWsC')"
   ]
  },
  {
   "cell_type": "code",
   "execution_count": 2,
   "id": "1a88d77e",
   "metadata": {},
   "outputs": [
    {
     "name": "stdout",
     "output_type": "stream",
     "text": [
      "[\"RT @C3UNAM: This talk will show how machine learning, artificial intelligence, and natural language processing can help to trace people's b…\", 'RT @isidroaguillo: Ya se que debemos utilizar la cortesía académica y ser políticamente correctos, pero ¿cómo actuar con un interlocutor ab…', '@cosnet_bifi @BIFI_Instituto @unizar @UccUnizar @ARAID_ES @GobAragon Congrats!', 'https://t.co/7jHt4A8JKJ', 'Wow. This interesting article by @gcabanac  and colleagues presents a brand new perspective of scientific writing a… https://t.co/Y26MRzZDPm', 'RT @MyScienceWork: An interesting read 📖  from Interdisciplinary Scientist @jcorrean \\nDoes limited access to publications really hinder sci…', 'RT @profjamesevans: The amazing Johan Chu and I published a piece out this week at PNAS (https://t.co/McjwkXBxvG) showing how the growing s…', 'RT @PLOS: How Open is your research?\\n\\nTake our short quiz to find out your score and get tips on how you can develop your #OpenScience skil…', 'Interesante lectura https://t.co/ySpOgpinm8', 'https://t.co/Y9IHQIt6hB', 'In our last paper, we revealed that the trust-sales relationship is not consistent at all in several Latin American… https://t.co/OAyF345ah5', 'The Consistency of Trust-Sales Relationship in Latin American E-Commerce https://t.co/0lhBHYrnok', 'Our last paper presents new evidence on the relationship between Economic Complexity, Economic Growth, and CO2 Emis… https://t.co/n4M8LCAyQL', 'RT @hadleywickham: Major updates to all tidyverse cheat thanks to our intern @avperny. Download them now! #rstats https://t.co/9Nl4tX9F3d', 'RT @BibliometraF: The Invisible Citation Commons.\\n\\nhttps://t.co/yiRPM0GdNj', 'RT @Piniisima: La evidencia más sólida de como trasciende un tuit de una red social poca representativa a una red nacional significativa; l…', 'RT @Marek_Kwiek: A reliable bibliometric picture of the post-Soviet world in science, 15 countries. Interesting!\\n\\nhttps://t.co/5mRdWNCdDN', 'El próximo 21 de Septiembre de 2021, estaré encantado de compartir algunas ideas en el Primer Simposio Internaciona… https://t.co/5URHkveoTS', 'RT @RibeiroHV: Our work \"Association between productivity and journal impact across disciplines and career age\" has just been accepted for…', 'Our paper on the sci-hub effect has received a recent citation. This time from physical review research.… https://t.co/3wkfQLTyGz']\n"
     ]
    }
   ],
   "source": [
    "statuses = api.GetUserTimeline(106483037)\n",
    "print([s.text for s in statuses])"
   ]
  },
  {
   "cell_type": "code",
   "execution_count": null,
   "id": "40ddb9f8",
   "metadata": {},
   "outputs": [],
   "source": []
  }
 ],
 "metadata": {
  "kernelspec": {
   "display_name": "Python 3",
   "language": "python",
   "name": "python3"
  },
  "language_info": {
   "codemirror_mode": {
    "name": "ipython",
    "version": 3
   },
   "file_extension": ".py",
   "mimetype": "text/x-python",
   "name": "python",
   "nbconvert_exporter": "python",
   "pygments_lexer": "ipython3",
   "version": "3.8.8"
  }
 },
 "nbformat": 4,
 "nbformat_minor": 5
}

{
 "cells": [
  {
   "cell_type": "code",
   "execution_count": 1,
   "id": "c6c08070",
   "metadata": {},
   "outputs": [],
   "source": [
    "import pandas as pd\n",
    "import numpy as np\n",
    "import matplotlib.pyplot as plt\n",
    "import seaborn as sbn"
   ]
  },
  {
   "cell_type": "code",
   "execution_count": 2,
   "id": "37e1fe42",
   "metadata": {},
   "outputs": [],
   "source": [
    "datos = pd.read_csv( 'newdata.csv' )"
   ]
  },
  {
   "cell_type": "code",
   "execution_count": 3,
   "id": "3a7feddd",
   "metadata": {},
   "outputs": [
    {
     "data": {
      "text/html": [
       "<div>\n",
       "<style scoped>\n",
       "    .dataframe tbody tr th:only-of-type {\n",
       "        vertical-align: middle;\n",
       "    }\n",
       "\n",
       "    .dataframe tbody tr th {\n",
       "        vertical-align: top;\n",
       "    }\n",
       "\n",
       "    .dataframe thead th {\n",
       "        text-align: right;\n",
       "    }\n",
       "</style>\n",
       "<table border=\"1\" class=\"dataframe\">\n",
       "  <thead>\n",
       "    <tr style=\"text-align: right;\">\n",
       "      <th></th>\n",
       "      <th>Moment</th>\n",
       "      <th>number</th>\n",
       "      <th>web</th>\n",
       "      <th>Name of Provider</th>\n",
       "      <th>Number of Comments</th>\n",
       "      <th>Expected Delivery Time</th>\n",
       "      <th>Minimum Charge Ordering</th>\n",
       "      <th>Cost Delivery</th>\n",
       "      <th>Latitude</th>\n",
       "      <th>Longitude</th>\n",
       "      <th>Typical Traffic Afternoon</th>\n",
       "      <th>Typical Traffic Noon</th>\n",
       "      <th>Typical Traffic Morning</th>\n",
       "      <th>DailyTraffic</th>\n",
       "      <th>ClientLatitude</th>\n",
       "      <th>ClientLongitude</th>\n",
       "      <th>Distance(mts)</th>\n",
       "      <th>Time(sec)</th>\n",
       "      <th>Time(min)</th>\n",
       "    </tr>\n",
       "  </thead>\n",
       "  <tbody>\n",
       "    <tr>\n",
       "      <th>0</th>\n",
       "      <td>Morning</td>\n",
       "      <td>1</td>\n",
       "      <td>https://domicilios.com/bogota/kfc-cc-atlantis-...</td>\n",
       "      <td>KFC</td>\n",
       "      <td>5329</td>\n",
       "      <td>45.0</td>\n",
       "      <td>9900.0</td>\n",
       "      <td>3500.0</td>\n",
       "      <td>4.66597</td>\n",
       "      <td>-74.05558</td>\n",
       "      <td>Red</td>\n",
       "      <td>Orange</td>\n",
       "      <td>Green</td>\n",
       "      <td>ROG</td>\n",
       "      <td>4.665798</td>\n",
       "      <td>-74.040855</td>\n",
       "      <td>2500</td>\n",
       "      <td>660</td>\n",
       "      <td>11</td>\n",
       "    </tr>\n",
       "    <tr>\n",
       "      <th>1</th>\n",
       "      <td>Morning</td>\n",
       "      <td>1</td>\n",
       "      <td>https://domicilios.com/bogota/kfc-cc-atlantis-...</td>\n",
       "      <td>KFC</td>\n",
       "      <td>5329</td>\n",
       "      <td>45.0</td>\n",
       "      <td>9900.0</td>\n",
       "      <td>3500.0</td>\n",
       "      <td>4.66597</td>\n",
       "      <td>-74.05558</td>\n",
       "      <td>Red</td>\n",
       "      <td>Orange</td>\n",
       "      <td>Green</td>\n",
       "      <td>ROG</td>\n",
       "      <td>4.666159</td>\n",
       "      <td>-74.038331</td>\n",
       "      <td>3300</td>\n",
       "      <td>720</td>\n",
       "      <td>12</td>\n",
       "    </tr>\n",
       "    <tr>\n",
       "      <th>2</th>\n",
       "      <td>Morning</td>\n",
       "      <td>1</td>\n",
       "      <td>https://domicilios.com/bogota/kfc-cc-atlantis-...</td>\n",
       "      <td>KFC</td>\n",
       "      <td>5329</td>\n",
       "      <td>45.0</td>\n",
       "      <td>9900.0</td>\n",
       "      <td>3500.0</td>\n",
       "      <td>4.66597</td>\n",
       "      <td>-74.05558</td>\n",
       "      <td>Red</td>\n",
       "      <td>Orange</td>\n",
       "      <td>Green</td>\n",
       "      <td>ROG</td>\n",
       "      <td>4.670228</td>\n",
       "      <td>-74.026783</td>\n",
       "      <td>9100</td>\n",
       "      <td>1740</td>\n",
       "      <td>29</td>\n",
       "    </tr>\n",
       "    <tr>\n",
       "      <th>3</th>\n",
       "      <td>Morning</td>\n",
       "      <td>1</td>\n",
       "      <td>https://domicilios.com/bogota/kfc-cc-atlantis-...</td>\n",
       "      <td>KFC</td>\n",
       "      <td>5329</td>\n",
       "      <td>45.0</td>\n",
       "      <td>9900.0</td>\n",
       "      <td>3500.0</td>\n",
       "      <td>4.66597</td>\n",
       "      <td>-74.05558</td>\n",
       "      <td>Red</td>\n",
       "      <td>Orange</td>\n",
       "      <td>Green</td>\n",
       "      <td>ROG</td>\n",
       "      <td>4.662140</td>\n",
       "      <td>-74.008008</td>\n",
       "      <td>9700</td>\n",
       "      <td>1740</td>\n",
       "      <td>29</td>\n",
       "    </tr>\n",
       "    <tr>\n",
       "      <th>4</th>\n",
       "      <td>Morning</td>\n",
       "      <td>1</td>\n",
       "      <td>https://domicilios.com/bogota/kfc-cc-atlantis-...</td>\n",
       "      <td>KFC</td>\n",
       "      <td>5329</td>\n",
       "      <td>45.0</td>\n",
       "      <td>9900.0</td>\n",
       "      <td>3500.0</td>\n",
       "      <td>4.66597</td>\n",
       "      <td>-74.05558</td>\n",
       "      <td>Red</td>\n",
       "      <td>Orange</td>\n",
       "      <td>Green</td>\n",
       "      <td>ROG</td>\n",
       "      <td>4.669905</td>\n",
       "      <td>-74.104917</td>\n",
       "      <td>8800</td>\n",
       "      <td>1320</td>\n",
       "      <td>22</td>\n",
       "    </tr>\n",
       "  </tbody>\n",
       "</table>\n",
       "</div>"
      ],
      "text/plain": [
       "    Moment  number                                                web  \\\n",
       "0  Morning       1  https://domicilios.com/bogota/kfc-cc-atlantis-...   \n",
       "1  Morning       1  https://domicilios.com/bogota/kfc-cc-atlantis-...   \n",
       "2  Morning       1  https://domicilios.com/bogota/kfc-cc-atlantis-...   \n",
       "3  Morning       1  https://domicilios.com/bogota/kfc-cc-atlantis-...   \n",
       "4  Morning       1  https://domicilios.com/bogota/kfc-cc-atlantis-...   \n",
       "\n",
       "  Name of Provider Number of Comments  Expected Delivery Time  \\\n",
       "0             KFC                5329                    45.0   \n",
       "1             KFC                5329                    45.0   \n",
       "2             KFC                5329                    45.0   \n",
       "3             KFC                5329                    45.0   \n",
       "4             KFC                5329                    45.0   \n",
       "\n",
       "   Minimum Charge Ordering  Cost Delivery  Latitude  Longitude  \\\n",
       "0                   9900.0         3500.0   4.66597  -74.05558   \n",
       "1                   9900.0         3500.0   4.66597  -74.05558   \n",
       "2                   9900.0         3500.0   4.66597  -74.05558   \n",
       "3                   9900.0         3500.0   4.66597  -74.05558   \n",
       "4                   9900.0         3500.0   4.66597  -74.05558   \n",
       "\n",
       "  Typical Traffic Afternoon Typical Traffic Noon Typical Traffic Morning  \\\n",
       "0                       Red               Orange                   Green   \n",
       "1                       Red               Orange                   Green   \n",
       "2                       Red               Orange                   Green   \n",
       "3                       Red               Orange                   Green   \n",
       "4                       Red               Orange                   Green   \n",
       "\n",
       "  DailyTraffic  ClientLatitude  ClientLongitude  Distance(mts)  Time(sec)  \\\n",
       "0          ROG        4.665798       -74.040855           2500        660   \n",
       "1          ROG        4.666159       -74.038331           3300        720   \n",
       "2          ROG        4.670228       -74.026783           9100       1740   \n",
       "3          ROG        4.662140       -74.008008           9700       1740   \n",
       "4          ROG        4.669905       -74.104917           8800       1320   \n",
       "\n",
       "   Time(min)  \n",
       "0         11  \n",
       "1         12  \n",
       "2         29  \n",
       "3         29  \n",
       "4         22  "
      ]
     },
     "execution_count": 3,
     "metadata": {},
     "output_type": "execute_result"
    }
   ],
   "source": [
    "datos.head()"
   ]
  },
  {
   "cell_type": "code",
   "execution_count": 4,
   "id": "2b5cb23f",
   "metadata": {},
   "outputs": [
    {
     "data": {
      "text/html": [
       "<div>\n",
       "<style scoped>\n",
       "    .dataframe tbody tr th:only-of-type {\n",
       "        vertical-align: middle;\n",
       "    }\n",
       "\n",
       "    .dataframe tbody tr th {\n",
       "        vertical-align: top;\n",
       "    }\n",
       "\n",
       "    .dataframe thead th {\n",
       "        text-align: right;\n",
       "    }\n",
       "</style>\n",
       "<table border=\"1\" class=\"dataframe\">\n",
       "  <thead>\n",
       "    <tr style=\"text-align: right;\">\n",
       "      <th></th>\n",
       "      <th>Number of Comments</th>\n",
       "      <th>Expected Delivery Time</th>\n",
       "    </tr>\n",
       "  </thead>\n",
       "  <tbody>\n",
       "    <tr>\n",
       "      <th>0</th>\n",
       "      <td>5329</td>\n",
       "      <td>45.0</td>\n",
       "    </tr>\n",
       "    <tr>\n",
       "      <th>1</th>\n",
       "      <td>5329</td>\n",
       "      <td>45.0</td>\n",
       "    </tr>\n",
       "  </tbody>\n",
       "</table>\n",
       "</div>"
      ],
      "text/plain": [
       "  Number of Comments  Expected Delivery Time\n",
       "0               5329                    45.0\n",
       "1               5329                    45.0"
      ]
     },
     "execution_count": 4,
     "metadata": {},
     "output_type": "execute_result"
    }
   ],
   "source": [
    "datos.iloc[0:2,4:6]"
   ]
  },
  {
   "cell_type": "markdown",
   "id": "dd416145",
   "metadata": {},
   "source": [
    "El resultado de la sintaxis anterior nos muestra un pedacito pequeño de toda la base de datos. Específicamente, nos muestra las primeras dos filas y la columna 4 y 5 de la base de datos. "
   ]
  },
  {
   "cell_type": "markdown",
   "id": "2dd0cbd4",
   "metadata": {},
   "source": [
    "Supongamos que queremos obtener un gráfico de torta para entender la distribución de observaciones hechas en las mañanas, al medio día y durante la tarde. Para ello, toca \"crear\" una nueva base de datos (la llamaremos \"data1\") dentro de la cual se agrupe el conteo de cada observación según la variable moment."
   ]
  },
  {
   "cell_type": "code",
   "execution_count": 5,
   "id": "90d62d0a",
   "metadata": {},
   "outputs": [
    {
     "data": {
      "text/plain": [
       "Moment\n",
       "Afternoon    6007\n",
       "Morning      6965\n",
       "Noon         6962\n",
       "Name: Moment, dtype: int64"
      ]
     },
     "execution_count": 5,
     "metadata": {},
     "output_type": "execute_result"
    }
   ],
   "source": [
    "data1 = datos.groupby(\"Moment\")[\"Moment\"].count()\n",
    "data1.head()"
   ]
  },
  {
   "cell_type": "markdown",
   "id": "1b6018af",
   "metadata": {},
   "source": [
    "El resultado de la sintaxis anterior nos muestra que el número exacto de observaciones por la tarde fue de 6007, el de la mañana fue de 6965 y el del medio día fue de 6962. Ahora con esta agrupación ya estamos listos para sacar nuestro gráfico de torta."
   ]
  },
  {
   "cell_type": "code",
   "execution_count": 6,
   "id": "f2dffc2a",
   "metadata": {},
   "outputs": [
    {
     "data": {
      "text/plain": [
       "<AxesSubplot:ylabel='Moment'>"
      ]
     },
     "execution_count": 6,
     "metadata": {},
     "output_type": "execute_result"
    },
    {
     "data": {
      "image/png": "[encoded data removed]",
      "text/plain": [
       "<Figure size 432x288 with 1 Axes>"
      ]
     },
     "metadata": {},
     "output_type": "display_data"
    }
   ],
   "source": [
    "data1.plot.pie(autopct=\"%.2f%%\")"
   ]
  },
  {
   "cell_type": "code",
   "execution_count": 7,
   "id": "5cdcc185",
   "metadata": {},
   "outputs": [
    {
     "data": {
      "text/plain": [
       "<AxesSubplot:xlabel='Cost Delivery', ylabel='Number of Comments'>"
      ]
     },
     "execution_count": 7,
     "metadata": {},
     "output_type": "execute_result"
    },
    {
     "data": {
      "image/png": "[encoded data removed]",
      "text/plain": [
       "<Figure size 432x288 with 1 Axes>"
      ]
     },
     "metadata": {
      "needs_background": "light"
     },
     "output_type": "display_data"
    }
   ],
   "source": [
    "sbn.scatterplot(data=datos, x=\"Cost Delivery\", y=\"Number of Comments\")"
   ]
  },
  {
   "cell_type": "markdown",
   "id": "049816e1",
   "metadata": {},
   "source": [
    "Hay algo extraño en este gráfico. Resulta que en el eje Y (todos los registros deben ser numéricos y resulta que aparece un registro de texto \"Amigos de la C\"... si uno saca un summary, puede darse cuenta de ese error dado que la variable \"Number of Comments\" es una variable numérica y al pedirse un resumen deberían aparecer los resultados estadísticos."
   ]
  },
  {
   "cell_type": "code",
   "execution_count": 8,
   "id": "d1c222de",
   "metadata": {},
   "outputs": [
    {
     "data": {
      "text/plain": [
       "count     14751\n",
       "unique      240\n",
       "top           0\n",
       "freq       2171\n",
       "Name: Number of Comments, dtype: object"
      ]
     },
     "execution_count": 8,
     "metadata": {},
     "output_type": "execute_result"
    }
   ],
   "source": [
    "datos['Number of Comments'].describe()"
   ]
  },
  {
   "cell_type": "markdown",
   "id": "100c0bc4",
   "metadata": {},
   "source": [
    "Compare cómo deberían salir los resultados de una variable numérica."
   ]
  },
  {
   "cell_type": "code",
   "execution_count": 9,
   "id": "43a8a7fc",
   "metadata": {},
   "outputs": [
    {
     "data": {
      "text/plain": [
       "count    14271.000000\n",
       "mean      2614.453928\n",
       "std       1577.961057\n",
       "min          0.000000\n",
       "25%       2000.000000\n",
       "50%       2800.000000\n",
       "75%       3500.000000\n",
       "max      20000.000000\n",
       "Name: Cost Delivery, dtype: float64"
      ]
     },
     "execution_count": 9,
     "metadata": {},
     "output_type": "execute_result"
    }
   ],
   "source": [
    "datos[\"Cost Delivery\"].describe()"
   ]
  },
  {
   "cell_type": "markdown",
   "id": "e40c6c94",
   "metadata": {},
   "source": [
    "Como quiero hacer un scatterplot con number of comments y cost delivery, voy a crear una segunda base de datos que únicamente contenga estas dos variables. (Por conveniencia, esto lo hice en R con otro pequeño script). El script en R se llama \"ExportingFewVariablesForPythonAnalysis.R\" y está disponible [en este link](https://github.com/jcorrean/mypythonadventure/blob/main/ExportingFewVariablesForPythonAnalysis.R)"
   ]
  },
  {
   "cell_type": "code",
   "execution_count": 10,
   "id": "65c4d1ea",
   "metadata": {},
   "outputs": [
    {
     "data": {
      "text/html": [
       "<div>\n",
       "<style scoped>\n",
       "    .dataframe tbody tr th:only-of-type {\n",
       "        vertical-align: middle;\n",
       "    }\n",
       "\n",
       "    .dataframe tbody tr th {\n",
       "        vertical-align: top;\n",
       "    }\n",
       "\n",
       "    .dataframe thead th {\n",
       "        text-align: right;\n",
       "    }\n",
       "</style>\n",
       "<table border=\"1\" class=\"dataframe\">\n",
       "  <thead>\n",
       "    <tr style=\"text-align: right;\">\n",
       "      <th></th>\n",
       "      <th>Number of Comments</th>\n",
       "      <th>Cost Delivery</th>\n",
       "    </tr>\n",
       "  </thead>\n",
       "  <tbody>\n",
       "    <tr>\n",
       "      <th>count</th>\n",
       "      <td>14727.000000</td>\n",
       "      <td>14271.000000</td>\n",
       "    </tr>\n",
       "    <tr>\n",
       "      <th>mean</th>\n",
       "      <td>200.618795</td>\n",
       "      <td>2614.453928</td>\n",
       "    </tr>\n",
       "    <tr>\n",
       "      <th>std</th>\n",
       "      <td>794.873828</td>\n",
       "      <td>1577.961057</td>\n",
       "    </tr>\n",
       "    <tr>\n",
       "      <th>min</th>\n",
       "      <td>0.000000</td>\n",
       "      <td>0.000000</td>\n",
       "    </tr>\n",
       "    <tr>\n",
       "      <th>25%</th>\n",
       "      <td>3.000000</td>\n",
       "      <td>2000.000000</td>\n",
       "    </tr>\n",
       "    <tr>\n",
       "      <th>50%</th>\n",
       "      <td>26.000000</td>\n",
       "      <td>2800.000000</td>\n",
       "    </tr>\n",
       "    <tr>\n",
       "      <th>75%</th>\n",
       "      <td>139.000000</td>\n",
       "      <td>3500.000000</td>\n",
       "    </tr>\n",
       "    <tr>\n",
       "      <th>max</th>\n",
       "      <td>12832.000000</td>\n",
       "      <td>20000.000000</td>\n",
       "    </tr>\n",
       "  </tbody>\n",
       "</table>\n",
       "</div>"
      ],
      "text/plain": [
       "       Number of Comments  Cost Delivery\n",
       "count        14727.000000   14271.000000\n",
       "mean           200.618795    2614.453928\n",
       "std            794.873828    1577.961057\n",
       "min              0.000000       0.000000\n",
       "25%              3.000000    2000.000000\n",
       "50%             26.000000    2800.000000\n",
       "75%            139.000000    3500.000000\n",
       "max          12832.000000   20000.000000"
      ]
     },
     "execution_count": 10,
     "metadata": {},
     "output_type": "execute_result"
    }
   ],
   "source": [
    "df = pd.read_excel('commentscost.xlsx')\n",
    "df.describe()"
   ]
  },
  {
   "cell_type": "code",
   "execution_count": 11,
   "id": "33349dd1",
   "metadata": {},
   "outputs": [
    {
     "data": {
      "text/plain": [
       "<AxesSubplot:xlabel='Cost Delivery', ylabel='Number of Comments'>"
      ]
     },
     "execution_count": 11,
     "metadata": {},
     "output_type": "execute_result"
    },
    {
     "data": {
      "image/png": "[encoded data removed]",
      "text/plain": [
       "<Figure size 432x288 with 1 Axes>"
      ]
     },
     "metadata": {
      "needs_background": "light"
     },
     "output_type": "display_data"
    }
   ],
   "source": [
    "sbn.scatterplot(data=df, x=\"Cost Delivery\", y=\"Number of Comments\")"
   ]
  },
  {
   "cell_type": "code",
   "execution_count": 12,
   "id": "e43f949c",
   "metadata": {},
   "outputs": [
    {
     "name": "stderr",
     "output_type": "stream",
     "text": [
      "/home/jc/anaconda3/lib/python3.8/site-packages/pandas/core/arraylike.py:274: RuntimeWarning: divide by zero encountered in log2\n",
      "  result = getattr(ufunc, method)(*inputs, **kwargs)\n"
     ]
    }
   ],
   "source": [
    "df['Log(Number of Comments)'] = np.log2(df['Number of Comments'])\n",
    "df['Log(Cost Delivery)'] = np.log2(df['Cost Delivery'])\n"
   ]
  },
  {
   "cell_type": "code",
   "execution_count": 13,
   "id": "67a65569",
   "metadata": {},
   "outputs": [
    {
     "data": {
      "text/html": [
       "<div>\n",
       "<style scoped>\n",
       "    .dataframe tbody tr th:only-of-type {\n",
       "        vertical-align: middle;\n",
       "    }\n",
       "\n",
       "    .dataframe tbody tr th {\n",
       "        vertical-align: top;\n",
       "    }\n",
       "\n",
       "    .dataframe thead th {\n",
       "        text-align: right;\n",
       "    }\n",
       "</style>\n",
       "<table border=\"1\" class=\"dataframe\">\n",
       "  <thead>\n",
       "    <tr style=\"text-align: right;\">\n",
       "      <th></th>\n",
       "      <th>Moment</th>\n",
       "      <th>Number of Comments</th>\n",
       "      <th>Cost Delivery</th>\n",
       "      <th>Log(Number of Comments)</th>\n",
       "      <th>Log(Cost Delivery)</th>\n",
       "    </tr>\n",
       "  </thead>\n",
       "  <tbody>\n",
       "    <tr>\n",
       "      <th>0</th>\n",
       "      <td>Morning</td>\n",
       "      <td>5329.0</td>\n",
       "      <td>3500.0</td>\n",
       "      <td>12.379649</td>\n",
       "      <td>11.773139</td>\n",
       "    </tr>\n",
       "    <tr>\n",
       "      <th>1</th>\n",
       "      <td>Morning</td>\n",
       "      <td>5329.0</td>\n",
       "      <td>3500.0</td>\n",
       "      <td>12.379649</td>\n",
       "      <td>11.773139</td>\n",
       "    </tr>\n",
       "    <tr>\n",
       "      <th>2</th>\n",
       "      <td>Morning</td>\n",
       "      <td>5329.0</td>\n",
       "      <td>3500.0</td>\n",
       "      <td>12.379649</td>\n",
       "      <td>11.773139</td>\n",
       "    </tr>\n",
       "    <tr>\n",
       "      <th>3</th>\n",
       "      <td>Morning</td>\n",
       "      <td>5329.0</td>\n",
       "      <td>3500.0</td>\n",
       "      <td>12.379649</td>\n",
       "      <td>11.773139</td>\n",
       "    </tr>\n",
       "    <tr>\n",
       "      <th>4</th>\n",
       "      <td>Morning</td>\n",
       "      <td>5329.0</td>\n",
       "      <td>3500.0</td>\n",
       "      <td>12.379649</td>\n",
       "      <td>11.773139</td>\n",
       "    </tr>\n",
       "  </tbody>\n",
       "</table>\n",
       "</div>"
      ],
      "text/plain": [
       "    Moment  Number of Comments  Cost Delivery  Log(Number of Comments)  \\\n",
       "0  Morning              5329.0         3500.0                12.379649   \n",
       "1  Morning              5329.0         3500.0                12.379649   \n",
       "2  Morning              5329.0         3500.0                12.379649   \n",
       "3  Morning              5329.0         3500.0                12.379649   \n",
       "4  Morning              5329.0         3500.0                12.379649   \n",
       "\n",
       "   Log(Cost Delivery)  \n",
       "0           11.773139  \n",
       "1           11.773139  \n",
       "2           11.773139  \n",
       "3           11.773139  \n",
       "4           11.773139  "
      ]
     },
     "execution_count": 13,
     "metadata": {},
     "output_type": "execute_result"
    }
   ],
   "source": [
    "df.head()"
   ]
  },
  {
   "cell_type": "code",
   "execution_count": 14,
   "id": "17e4f1e9",
   "metadata": {},
   "outputs": [
    {
     "data": {
      "text/plain": [
       "<AxesSubplot:xlabel='Cost Delivery', ylabel='Log(Number of Comments)'>"
      ]
     },
     "execution_count": 14,
     "metadata": {},
     "output_type": "execute_result"
    },
    {
     "data": {
      "image/png": "[encoded data removed]",
      "text/plain": [
       "<Figure size 432x288 with 1 Axes>"
      ]
     },
     "metadata": {
      "needs_background": "light"
     },
     "output_type": "display_data"
    }
   ],
   "source": [
    "sbn.scatterplot(data=df, x=\"Cost Delivery\", y=\"Log(Number of Comments)\")"
   ]
  },
  {
   "cell_type": "code",
   "execution_count": 15,
   "id": "6583b4c7",
   "metadata": {},
   "outputs": [
    {
     "data": {
      "text/plain": [
       "<AxesSubplot:xlabel='Log(Cost Delivery)', ylabel='Log(Number of Comments)'>"
      ]
     },
     "execution_count": 15,
     "metadata": {},
     "output_type": "execute_result"
    },
    {
     "data": {
      "image/png": "[encoded data removed]",
      "text/plain": [
       "<Figure size 432x288 with 1 Axes>"
      ]
     },
     "metadata": {
      "needs_background": "light"
     },
     "output_type": "display_data"
    }
   ],
   "source": [
    "sbn.scatterplot(data=df, x=\"Log(Cost Delivery)\", y=\"Log(Number of Comments)\", hue=\"Moment\")"
   ]
  }
 ],
 "metadata": {
  "kernelspec": {
   "display_name": "Python 3",
   "language": "python",
   "name": "python3"
  },
  "language_info": {
   "codemirror_mode": {
    "name": "ipython",
    "version": 3
   },
   "file_extension": ".py",
   "mimetype": "text/x-python",
   "name": "python",
   "nbconvert_exporter": "python",
   "pygments_lexer": "ipython3",
   "version": "3.9.5"
  }
 },
 "nbformat": 4,
 "nbformat_minor": 5
}
